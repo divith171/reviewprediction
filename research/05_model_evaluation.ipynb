{
 "cells": [
  {
   "cell_type": "code",
   "execution_count": 1,
   "metadata": {},
   "outputs": [],
   "source": [
    "import os"
   ]
  },
  {
   "cell_type": "code",
   "execution_count": 2,
   "metadata": {},
   "outputs": [
    {
     "data": {
      "text/plain": [
       "'e:\\\\reviewprediction\\\\research'"
      ]
     },
     "execution_count": 2,
     "metadata": {},
     "output_type": "execute_result"
    }
   ],
   "source": [
    "%pwd"
   ]
  },
  {
   "cell_type": "code",
   "execution_count": 3,
   "metadata": {},
   "outputs": [],
   "source": [
    "os.chdir(\"../\")"
   ]
  },
  {
   "cell_type": "code",
   "execution_count": 4,
   "metadata": {},
   "outputs": [
    {
     "data": {
      "text/plain": [
       "'e:\\\\reviewprediction'"
      ]
     },
     "execution_count": 4,
     "metadata": {},
     "output_type": "execute_result"
    }
   ],
   "source": [
    "%pwd"
   ]
  },
  {
   "cell_type": "code",
   "execution_count": 29,
   "metadata": {},
   "outputs": [],
   "source": [
    "os.environ[\"MLFLOW_TRACKING_URI\"]=\"https://dagshub.com/divith171/reviewprediction.mlflow\"\n",
    "os.environ[\"MLFLOW_TRACKING_USERNAME\"]=\"divith171\"\n",
    "os.environ[\"MLFLOW_TRACKING_PASSWORD\"]=\"f17ed95907e0d5c1e4b27b30354f6ed03187f1ba\"\n"
   ]
  },
  {
   "cell_type": "code",
   "execution_count": 30,
   "metadata": {},
   "outputs": [],
   "source": [
    "from dataclasses import dataclass\n",
    "from pathlib import Path\n",
    "\n",
    "\n",
    "@dataclass(frozen=True)\n",
    "class ModelEvaluationConfig:\n",
    "    root_dir: Path\n",
    "    test_data_path: Path\n",
    "    model_path: Path\n",
    "    all_params: dict\n",
    "    metric_file_name: Path\n",
    "    target_column: str\n",
    "    mlflow_uri: str"
   ]
  },
  {
   "cell_type": "code",
   "execution_count": 31,
   "metadata": {},
   "outputs": [],
   "source": [
    "from reviewprediction.constants import *\n",
    "from reviewprediction.utils.common import read_yaml, create_directories, save_json"
   ]
  },
  {
   "cell_type": "code",
   "execution_count": 32,
   "metadata": {},
   "outputs": [],
   "source": [
    "class ConfigurationManager:\n",
    "    def __init__(\n",
    "        self,\n",
    "        config_filepath = CONFIG_FILE_PATH,\n",
    "        params_filepath = PARAMS_FILE_PATH,\n",
    "        schema_filepath = SCHEMA_FILE_PATH):\n",
    "\n",
    "        self.config = read_yaml(config_filepath)\n",
    "        self.params = read_yaml(params_filepath)\n",
    "        self.schema = read_yaml(schema_filepath)\n",
    "\n",
    "        create_directories([self.config.artifacts_root])\n",
    "\n",
    "\n",
    "    \n",
    "    def get_model_evaluation_config(self) -> ModelEvaluationConfig:\n",
    "        config = self.config.model_evaluation\n",
    "        params = self.params.XGBClassifier\n",
    "        schema =  self.schema.TARGET_COLUMN\n",
    "\n",
    "        create_directories([config.root_dir])\n",
    "\n",
    "        model_evaluation_config = ModelEvaluationConfig(\n",
    "            root_dir=config.root_dir,\n",
    "            test_data_path=config.test_data_path,\n",
    "            model_path = config.model_path,\n",
    "            all_params=params,\n",
    "            metric_file_name = config.metric_file_name,\n",
    "            target_column = schema.name,\n",
    "            mlflow_uri =\"https://dagshub.com/divith171/reviewprediction.mlflow\"\n",
    "        )\n",
    "\n",
    "        return model_evaluation_config"
   ]
  },
  {
   "cell_type": "code",
   "execution_count": 33,
   "metadata": {},
   "outputs": [],
   "source": [
    "import os\n",
    "import pandas as pd\n",
    "from sklearn.metrics import accuracy_score, f1_score, roc_auc_score\n",
    "from urllib.parse import urlparse\n",
    "import numpy as np\n",
    "import joblib\n",
    "import mlflow\n",
    "import mlflow.sklearn\n",
    "import json\n",
    "\n"
   ]
  },
  {
   "cell_type": "code",
   "execution_count": 34,
   "metadata": {},
   "outputs": [],
   "source": [
    "class ModelEvaluation:\n",
    "    def __init__(self, config: ModelEvaluationConfig):\n",
    "        self.config = config\n",
    "\n",
    "    \n",
    "    def eval_metrics(self,actual, pred):\n",
    "        accuracy = accuracy_score(actual, pred)\n",
    "        f1 = f1_score(actual, pred, average='weighted')  # Weighted F1-score for multi-class\n",
    "        auc = roc_auc_score(actual, pred)\n",
    "        return accuracy, f1, auc\n",
    "    \n",
    "\n",
    "\n",
    "    def log_into_mlflow(self):\n",
    "\n",
    "        test_data = self.config.test_data_path\n",
    "         # Load the JSON data\n",
    "        try:\n",
    "            \n",
    "            with open(test_data, \"r\") as f:\n",
    "                test_data = json.load(f)\n",
    "        except FileNotFoundError:\n",
    "            print(\"Error: JSON files not found at specified paths.\")\n",
    "        else:\n",
    "            print(\"Train and test data loaded from JSON files.\")\n",
    "        X_test_final = []\n",
    "        y_test = []\n",
    "        for item in test_data:\n",
    "            X_test_final.append(item[\"features\"])\n",
    "            y_test = [item[\"label\"] for item in test_data]  # Shortened list comprehension\n",
    "        X_test = np.array(X_test_final)\n",
    "\n",
    "        model = joblib.load(self.config.model_path)\n",
    "        \n",
    "        mlflow.set_registry_uri(self.config.mlflow_uri)\n",
    "        tracking_url_type_store= urlparse(mlflow.get_tracking_uri()).scheme\n",
    "\n",
    "\n",
    "\n",
    "        with mlflow.start_run():\n",
    "\n",
    "          predicted_qualities = model.predict(X_test)\n",
    "\n",
    "          (accuracy, f1, auc) = self.eval_metrics(y_test, predicted_qualities)\n",
    "        \n",
    "          # Saving metrics as local\n",
    "          scores = {\"accuracy_score\": accuracy, \"f1 score\": f1, \"roc_auc_scor\": auc}\n",
    "          save_json(path=Path(self.config.metric_file_name), data=scores)\n",
    "          mlflow.log_params(self.config.all_params)\n",
    "          mlflow.log_metric(\"accuracy_score\",accuracy)\n",
    "          mlflow.log_metric(\"f1 score\", f1)\n",
    "          mlflow.log_metric(\"roc_auc_scor\", auc)\n",
    "\n",
    "         "
   ]
  },
  {
   "cell_type": "code",
   "execution_count": 35,
   "metadata": {},
   "outputs": [
    {
     "name": "stdout",
     "output_type": "stream",
     "text": [
      "[2024-03-14 11:45:01,363: INFO: common: yaml file: config\\config.yaml loaded successfully]\n",
      "[2024-03-14 11:45:01,369: INFO: common: yaml file: params.yaml loaded successfully]\n",
      "[2024-03-14 11:45:01,386: INFO: common: yaml file: schema.yaml loaded successfully]\n",
      "[2024-03-14 11:45:01,389: INFO: common: created directory at: artifacts]\n",
      "[2024-03-14 11:45:01,394: INFO: common: created directory at: artifacts/model_evaluation]\n"
     ]
    },
    {
     "name": "stdout",
     "output_type": "stream",
     "text": [
      "Train and test data loaded from JSON files.\n",
      "[2024-03-14 11:45:39,882: INFO: common: json file saved at: artifacts\\model_evaluation\\metrics.json]\n"
     ]
    }
   ],
   "source": [
    "try:\n",
    "    config = ConfigurationManager()\n",
    "    model_evaluation_config = config.get_model_evaluation_config()\n",
    "    model_evaluation_config = ModelEvaluation(config=model_evaluation_config)\n",
    "    model_evaluation_config.log_into_mlflow()\n",
    "except Exception as e:\n",
    "    raise e"
   ]
  },
  {
   "cell_type": "code",
   "execution_count": null,
   "metadata": {},
   "outputs": [],
   "source": []
  }
 ],
 "metadata": {
  "kernelspec": {
   "display_name": "Python 3",
   "language": "python",
   "name": "python3"
  },
  "language_info": {
   "codemirror_mode": {
    "name": "ipython",
    "version": 3
   },
   "file_extension": ".py",
   "mimetype": "text/x-python",
   "name": "python",
   "nbconvert_exporter": "python",
   "pygments_lexer": "ipython3",
   "version": "3.9.0"
  }
 },
 "nbformat": 4,
 "nbformat_minor": 2
}
