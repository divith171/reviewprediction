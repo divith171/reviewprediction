{
 "cells": [
  {
   "cell_type": "code",
   "execution_count": 1,
   "metadata": {},
   "outputs": [],
   "source": [
    "import os"
   ]
  },
  {
   "cell_type": "code",
   "execution_count": 2,
   "metadata": {},
   "outputs": [
    {
     "data": {
      "text/plain": [
       "'e:\\\\reviewprediction\\\\research'"
      ]
     },
     "execution_count": 2,
     "metadata": {},
     "output_type": "execute_result"
    }
   ],
   "source": [
    "%pwd"
   ]
  },
  {
   "cell_type": "code",
   "execution_count": 3,
   "metadata": {},
   "outputs": [],
   "source": [
    "os.chdir(\"../\")"
   ]
  },
  {
   "cell_type": "code",
   "execution_count": 4,
   "metadata": {},
   "outputs": [
    {
     "data": {
      "text/plain": [
       "'e:\\\\reviewprediction'"
      ]
     },
     "execution_count": 4,
     "metadata": {},
     "output_type": "execute_result"
    }
   ],
   "source": [
    "%pwd"
   ]
  },
  {
   "cell_type": "code",
   "execution_count": 5,
   "metadata": {},
   "outputs": [],
   "source": [
    "from dataclasses import dataclass\n",
    "from pathlib import Path\n",
    "\n",
    "\n",
    "@dataclass(frozen=True)\n",
    "class ModelTrainerConfig:\n",
    "    root_dir: Path\n",
    "    train_data_path: Path\n",
    "    test_data_path: Path\n",
    "    model_name: str\n",
    "    n_estimators: 300\n",
    "    min_child_weight: 4\n",
    "    max_depth: 5 \n",
    "    learning_rate: 0.1\n",
    "    target_column: str"
   ]
  },
  {
   "cell_type": "code",
   "execution_count": 6,
   "metadata": {},
   "outputs": [],
   "source": [
    "from reviewprediction.constants import *\n",
    "from reviewprediction.utils.common import read_yaml, create_directories"
   ]
  },
  {
   "cell_type": "code",
   "execution_count": 10,
   "metadata": {},
   "outputs": [],
   "source": [
    "class ConfigurationManager:\n",
    "    def __init__(\n",
    "        self,\n",
    "        config_filepath = CONFIG_FILE_PATH,\n",
    "        params_filepath = PARAMS_FILE_PATH,\n",
    "        schema_filepath = SCHEMA_FILE_PATH):\n",
    "\n",
    "        self.config = read_yaml(config_filepath)\n",
    "        self.params = read_yaml(params_filepath)\n",
    "        self.schema = read_yaml(schema_filepath)\n",
    "\n",
    "        create_directories([self.config.artifacts_root])\n",
    "\n",
    "    \n",
    "    \n",
    "    def get_model_trainer_config(self) -> ModelTrainerConfig:\n",
    "        config = self.config.model_trainer\n",
    "        params = self.params.XGBClassifier\n",
    "        schema =  self.schema.TARGET_COLUMN\n",
    "\n",
    "        create_directories([config.root_dir])\n",
    "\n",
    "        model_trainer_config = ModelTrainerConfig(\n",
    "            root_dir=config.root_dir,\n",
    "            train_data_path = config.train_data_path,\n",
    "            test_data_path = config.test_data_path,\n",
    "            model_name = config.model_name,\n",
    "            n_estimators = params.n_estimators,\n",
    "            min_child_weight = params.min_child_weight,\n",
    "            max_depth = params.max_depth,\n",
    "            learning_rate = params.learning_rate,\n",
    "            target_column = schema.name\n",
    "            \n",
    "        )\n",
    "\n",
    "        return model_trainer_config"
   ]
  },
  {
   "cell_type": "code",
   "execution_count": 16,
   "metadata": {},
   "outputs": [],
   "source": [
    "import pandas as pd\n",
    "import os\n",
    "from reviewprediction import logger\n",
    "from xgboost import XGBClassifier\n",
    "import json\n",
    "import joblib\n",
    "import numpy as np\n"
   ]
  },
  {
   "cell_type": "code",
   "execution_count": 14,
   "metadata": {},
   "outputs": [],
   "source": [
    "class ModelTrainer:\n",
    "    def __init__(self, config: ModelTrainerConfig):\n",
    "        self.config = config\n",
    "\n",
    "    \n",
    "    def train(self):\n",
    "\n",
    "\n",
    "        # Define the file paths (replace with your actual paths)\n",
    "        train_data = self.config.train_data_path\n",
    "        test_data= self.config.test_data_path\n",
    "\n",
    "        # Load the JSON data\n",
    "        try:\n",
    "            with open(train_data, \"r\") as f:\n",
    "                train_data = json.load(f)\n",
    "            with open(test_data, \"r\") as f:\n",
    "                test_data = json.load(f)\n",
    "        except FileNotFoundError:\n",
    "            print(\"Error: JSON files not found at specified paths.\")\n",
    "        else:\n",
    "            print(\"Train and test data loaded from JSON files.\")\n",
    "\n",
    "        # Extract features and labels\n",
    "        X_train_final = []\n",
    "        y_train = []\n",
    "        for item in train_data:\n",
    "            X_train_final.append(item[\"features\"])\n",
    "            y_train.append(item[\"label\"])\n",
    "\n",
    "        X_test_final = []\n",
    "        y_test = []\n",
    "        for item in test_data:\n",
    "            X_test_final.append(item[\"features\"])\n",
    "            y_test = [item[\"label\"] for item in test_data]  # Shortened list comprehension\n",
    "\n",
    "        # Convert features back to NumPy arrays (if needed)\n",
    "        X_train = np.array(X_train_final)\n",
    "        X_test = np.array(X_test_final)\n",
    "\n",
    "        # Define and train the XGBClassifier model\n",
    "        model_XGB = XGBClassifier(n_estimators=self.config.n_estimators, min_child_weight=self.config.min_child_weight, max_depth=self.config.max_depth, learning_rate=self.config.learning_rate)\n",
    "        model_XGB.fit(X_train, y_train)\n",
    "\n",
    "\n",
    "        joblib.dump(model_XGB, os.path.join(self.config.root_dir, self.config.model_name))"
   ]
  },
  {
   "cell_type": "code",
   "execution_count": 15,
   "metadata": {},
   "outputs": [
    {
     "name": "stdout",
     "output_type": "stream",
     "text": [
      "[2024-03-07 20:08:53,511: INFO: common: yaml file: config\\config.yaml loaded successfully]\n",
      "[2024-03-07 20:08:53,556: INFO: common: yaml file: params.yaml loaded successfully]\n",
      "[2024-03-07 20:08:53,571: INFO: common: yaml file: schema.yaml loaded successfully]\n",
      "[2024-03-07 20:08:53,582: INFO: common: created directory at: artifacts]\n",
      "[2024-03-07 20:08:53,584: INFO: common: created directory at: artifacts/model_trainer]\n",
      "Train and test data loaded from JSON files.\n"
     ]
    }
   ],
   "source": [
    "try:\n",
    "    config = ConfigurationManager()\n",
    "    model_trainer_config = config.get_model_trainer_config()\n",
    "    model_trainer_config = ModelTrainer(config=model_trainer_config)\n",
    "    model_trainer_config.train()\n",
    "except Exception as e:\n",
    "    raise e"
   ]
  },
  {
   "cell_type": "code",
   "execution_count": null,
   "metadata": {},
   "outputs": [],
   "source": []
  }
 ],
 "metadata": {
  "kernelspec": {
   "display_name": "Python 3",
   "language": "python",
   "name": "python3"
  },
  "language_info": {
   "codemirror_mode": {
    "name": "ipython",
    "version": 3
   },
   "file_extension": ".py",
   "mimetype": "text/x-python",
   "name": "python",
   "nbconvert_exporter": "python",
   "pygments_lexer": "ipython3",
   "version": "3.9.0"
  }
 },
 "nbformat": 4,
 "nbformat_minor": 2
}
